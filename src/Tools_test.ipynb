{
 "cells": [
  {
   "cell_type": "markdown",
   "metadata": {},
   "source": [
    "# Workflow Test on Cosmos\n",
    "\n",
    "### Testing the 'Sequence' Object in Python"
   ]
  },
  {
   "cell_type": "code",
   "execution_count": 6,
   "metadata": {
    "collapsed": false,
    "scrolled": true
   },
   "outputs": [
    {
     "name": "stdout",
     "output_type": "stream",
     "text": [
      "BEFORE:\n",
      "SRR029695.24\n",
      "AATCATCTTTCAAACCTATTGGTGCCTTTTCACCATATAATATATTGCCAACACACTAGCTAAAGCCATGAAA\n",
      "73\n"
     ]
    }
   ],
   "source": [
    "#!/usr/bin/env python\n",
    "\n",
    "import sys\n",
    "sys.path.append('./modules') #to implement the modules in the 'modules' sub-directory\n",
    "import Sequence\n",
    "import tools\n",
    "from Bio import SeqIO\n",
    "\n",
    "sequences = []\n",
    "\n",
    "for bioSeqRecord_obj in SeqIO.parse(\"data/test.fastq\",\"fastq\"):\n",
    "    sequences.append(Sequence.Sequence(bioSeqRecord_obj))\n",
    "print \"BEFORE:\"\n",
    "print sequences[1].get_ID()\n",
    "print sequences[1].get_SEQUENCE()\n",
    "print sequences[1].get_LENGTH()\n"
   ]
  },
  {
   "cell_type": "code",
   "execution_count": 7,
   "metadata": {
    "collapsed": false
   },
   "outputs": [
    {
     "name": "stdout",
     "output_type": "stream",
     "text": [
      "[32, 26, 27, 25, 26, 27, 25, 32, 30, 12, 27, 33, 31, 17, 29, 22, 26, 24, 29, 22, 28, 21, 27, 27, 20, 10, 34, 32, 22, 10, 27, 27, 26, 18, 27, 27, 26, 27, 28, 21, 27, 27, 27, 27, 30, 23, 26, 24, 17, 29, 22, 27, 27, 26, 26, 27, 27, 27, 27, 27, 27, 33, 30, 12, 26, 27, 19, 27, 27, 27, 33, 30, 12]\n"
     ]
    }
   ],
   "source": [
    "print sequences[1].get_QUALITY()"
   ]
  },
  {
   "cell_type": "markdown",
   "metadata": {
    "collapsed": true
   },
   "source": [
    "**set_SEQUENCE()** function"
   ]
  },
  {
   "cell_type": "code",
   "execution_count": 8,
   "metadata": {
    "collapsed": false
   },
   "outputs": [
    {
     "name": "stdout",
     "output_type": "stream",
     "text": [
      "AFTER:\n",
      "AAAAAATTTTTAAAAGGGGCCCC\n",
      "23\n"
     ]
    }
   ],
   "source": [
    "sequences[1].set_SEQUENCE(\"AAAAAATTTTTAAAAGGGGCCCC\")\n",
    "print \"AFTER:\"\n",
    "print sequences[1].get_SEQUENCE()\n",
    "print sequences[1].get_LENGTH()"
   ]
  },
  {
   "cell_type": "markdown",
   "metadata": {},
   "source": [
    "**Quality treatment** test"
   ]
  },
  {
   "cell_type": "code",
   "execution_count": 9,
   "metadata": {
    "collapsed": false
   },
   "outputs": [],
   "source": [
    "\n",
    "\n",
    "tools.quality_treatment(\"data/test2.fastq\",\"data/quality_treatment_results.fastq\",15)"
   ]
  },
  {
   "cell_type": "markdown",
   "metadata": {},
   "source": [
    "Results of the Quality treatment tool in data/quality_treatment_results.fastq"
   ]
  },
  {
   "cell_type": "markdown",
   "metadata": {},
   "source": [
    "**Length treatment** test"
   ]
  },
  {
   "cell_type": "code",
   "execution_count": 10,
   "metadata": {
    "collapsed": false
   },
   "outputs": [],
   "source": [
    "\n",
    "tools.length_treatment(\"data/quality_treatment_results.fastq\",\"testing/data/length_treatment_results.fastq\",60)"
   ]
  },
  {
   "cell_type": "markdown",
   "metadata": {},
   "source": [
    "**Formating files** test"
   ]
  },
  {
   "cell_type": "code",
   "execution_count": 11,
   "metadata": {
    "collapsed": false
   },
   "outputs": [],
   "source": [
    "tools.format_files(\"data/quality_treatment_results.fastq\",\"data/format_test.txt\",'quality')\n",
    "tools.format_files(\"data/quality_treatment_results.fastq\",\"data/format_test2.txt\",'length')\n"
   ]
  },
  {
   "cell_type": "markdown",
   "metadata": {},
   "source": [
    "**Rscripts** test"
   ]
  },
  {
   "cell_type": "code",
   "execution_count": 12,
   "metadata": {
    "collapsed": false
   },
   "outputs": [],
   "source": [
    "tools.r_call(\"plot_quality_scores.R\",\"data/format_test.txt\",\"results/test.pdf\")\n",
    "tools.r_call(\"plot_sequence_length.R\",\"data/format_test2.txt\",\"results/test2.pdf\")\n"
   ]
  },
  {
   "cell_type": "code",
   "execution_count": null,
   "metadata": {
    "collapsed": false
   },
   "outputs": [],
   "source": [
    "\n",
    "\n"
   ]
  }
 ],
 "metadata": {
  "kernelspec": {
   "display_name": "Python 2",
   "language": "python",
   "name": "python2"
  },
  "language_info": {
   "codemirror_mode": {
    "name": "ipython",
    "version": 2
   },
   "file_extension": ".py",
   "mimetype": "text/x-python",
   "name": "python",
   "nbconvert_exporter": "python",
   "pygments_lexer": "ipython2",
   "version": "2.7.5"
  }
 },
 "nbformat": 4,
 "nbformat_minor": 0
}
