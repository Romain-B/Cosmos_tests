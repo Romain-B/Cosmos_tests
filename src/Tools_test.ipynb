{
 "cells": [
  {
   "cell_type": "markdown",
   "metadata": {},
   "source": [
    "# Workflow Test on Cosmos\n",
    "\n",
    "### Testing the 'Sequence' Object in Python"
   ]
  },
  {
   "cell_type": "code",
   "execution_count": 2,
   "metadata": {
    "collapsed": false,
    "scrolled": true
   },
   "outputs": [
    {
     "name": "stdout",
     "output_type": "stream",
     "text": [
      "BEFORE:\n",
      "SRR029695.24\n",
      "AATCATCTTTCAAACCTATTGGTGCCTTTTCACCATATAATATATTGCCAACACACTAGCTAAAGCCATGAAA\n",
      "73\n"
     ]
    }
   ],
   "source": [
    "#!/usr/bin/env python\n",
    "\n",
    "import sys\n",
    "sys.path.append('./modules') #to implement the modules in the 'modules' sub-directory\n",
    "import Sequence\n",
    "import tools\n",
    "from Bio import SeqIO\n",
    "\n",
    "sequences = []\n",
    "\n",
    "for bioSeqRecord_obj in SeqIO.parse(\"data/test.fastq\",\"fastq\"):\n",
    "    sequences.append(Sequence.Sequence(bioSeqRecord_obj))\n",
    "print \"BEFORE:\"\n",
    "print sequences[1].get_ID()\n",
    "print sequences[1].get_SEQUENCE()\n",
    "print sequences[1].get_LENGTH()\n"
   ]
  },
  {
   "cell_type": "code",
   "execution_count": 3,
   "metadata": {
    "collapsed": false
   },
   "outputs": [
    {
     "name": "stdout",
     "output_type": "stream",
     "text": [
      "[32, 26, 27, 25, 26, 27, 25, 32, 30, 12, 27, 33, 31, 17, 29, 22, 26, 24, 29, 22, 28, 21, 27, 27, 20, 10, 34, 32, 22, 10, 27, 27, 26, 18, 27, 27, 26, 27, 28, 21, 27, 27, 27, 27, 30, 23, 26, 24, 17, 29, 22, 27, 27, 26, 26, 27, 27, 27, 27, 27, 27, 33, 30, 12, 26, 27, 19, 27, 27, 27, 33, 30, 12]\n"
     ]
    }
   ],
   "source": [
    "print sequences[1].get_QUALITY()"
   ]
  },
  {
   "cell_type": "markdown",
   "metadata": {
    "collapsed": true
   },
   "source": [
    "**set_SEQUENCE()** function"
   ]
  },
  {
   "cell_type": "code",
   "execution_count": 4,
   "metadata": {
    "collapsed": false
   },
   "outputs": [
    {
     "name": "stdout",
     "output_type": "stream",
     "text": [
      "AFTER:\n",
      "AAAAAATTTTTAAAAGGGGCCCC\n",
      "23\n"
     ]
    }
   ],
   "source": [
    "sequences[1].set_SEQUENCE(\"AAAAAATTTTTAAAAGGGGCCCC\")\n",
    "print \"AFTER:\"\n",
    "print sequences[1].get_SEQUENCE()\n",
    "print sequences[1].get_LENGTH()"
   ]
  },
  {
   "cell_type": "markdown",
   "metadata": {},
   "source": [
    "**Quality treatment** test"
   ]
  },
  {
   "cell_type": "code",
   "execution_count": 5,
   "metadata": {
    "collapsed": false
   },
   "outputs": [],
   "source": [
    "\n",
    "\n",
    "tools.quality_treatment(\"data/test2.fastq\",\"testing/data/quality_treatment_results.fastq\",15)"
   ]
  },
  {
   "cell_type": "markdown",
   "metadata": {},
   "source": [
    "Results of the Quality treatment tool in data/quality_treatment_results.fastq"
   ]
  },
  {
   "cell_type": "markdown",
   "metadata": {},
   "source": [
    "**Length treatment** test"
   ]
  },
  {
   "cell_type": "code",
   "execution_count": 6,
   "metadata": {
    "collapsed": false
   },
   "outputs": [],
   "source": [
    "\n",
    "tools.length_treatment(\"data/quality_treatment_results.fastq\",\"testing/data/length_treatment_results.fastq\",60)"
   ]
  },
  {
   "cell_type": "markdown",
   "metadata": {},
   "source": [
    "**Formating files** test"
   ]
  },
  {
   "cell_type": "code",
   "execution_count": 7,
   "metadata": {
    "collapsed": false
   },
   "outputs": [],
   "source": [
    "tools.format_files(\"data/quality_treatment_results.fastq\",\"data/format_test.txt\",'quality')\n",
    "tools.format_files(\"data/quality_treatment_results.fastq\",\"data/format_test2.txt\",'length')\n"
   ]
  },
  {
   "cell_type": "markdown",
   "metadata": {},
   "source": [
    "**Rscripts** test"
   ]
  },
  {
   "cell_type": "code",
   "execution_count": 8,
   "metadata": {
    "collapsed": false
   },
   "outputs": [],
   "source": [
    "tools.r_call(\"plot_quality_scores.R\",\"data/format_test.txt\",\"test.pdf\")\n",
    "tools.r_call(\"plot_sequence_length.R\",\"data/format_test2.txt\",\"test2.pdf\")\n"
   ]
  },
  {
   "cell_type": "markdown",
   "metadata": {},
   "source": [
    "### Implementation in Cosmos"
   ]
  },
  {
   "cell_type": "code",
   "execution_count": 9,
   "metadata": {
    "collapsed": false,
    "scrolled": false
   },
   "outputs": [
    {
     "name": "stderr",
     "output_type": "stream",
     "text": [
      "Initializing sql database for Cosmos v1.7.3...\n",
      "INFO: 2016-04-22 15:52:22: Deleting <Execution[1] Test1>, output_dir=/home/bulteaur/Documents/Modules/src/testing, delete_files=False\n",
      "Deleting output_dir: /home/bulteaur/Documents/Modules/src/testing...\n",
      "<Execution[1] Test1> Deleting from SQL...\n",
      "<Execution[1] Test1> Deleted\n",
      "INFO: 2016-04-22 15:52:23: Preparing to run <Execution[1] Test1> using DRM `local`, output_dir: `/home/bulteaur/Documents/Modules/src/testing`\n",
      "INFO: 2016-04-22 15:52:23: <Stage[1] Quality_Treatment> Has not been attempted\n",
      "INFO: 2016-04-22 15:52:23: Skipping 0 successful tasks...\n",
      "INFO: 2016-04-22 15:52:23: Ensuring there are enough cores...\n",
      "INFO: 2016-04-22 15:52:23: Committing to SQL db...\n",
      "INFO: 2016-04-22 15:52:23: Executing TaskGraph\n",
      "INFO: 2016-04-22 15:52:30: <Stage[1] Quality_Treatment> Running (1/1 tasks)\n",
      "INFO: 2016-04-22 15:52:30: <Stage[1] Quality_Treatment> Finished successfully (1/1 successful tasks)\n",
      "INFO: 2016-04-22 15:52:30: <Execution[1] Test1> Successfully Finished, output_dir: /home/bulteaur/Documents/Modules/src/testing\n"
     ]
    }
   ],
   "source": [
    "#!/usr/bin/env python\n",
    "\n",
    "import sys\n",
    "sys.path.append('./modules') #to implement the modules in the 'modules' sub-directory\n",
    "import Sequence\n",
    "import tools\n",
    "import os\n",
    "import subprocess\n",
    "from cosmos.api import Cosmos, draw_stage_graph, draw_task_graph, pygraphviz_available\n",
    "\n",
    "def run_test(execution):\n",
    "    \n",
    "    QualTR = [execution.add_task(tools.quality_treatment,\n",
    "                                 tags = dict(path2file=path2file, path2output=\"testing/data/quality_treatment_results.fastq\", threshold=15)\n",
    "                                 )\n",
    "                for path2file in[\"testing/data/4.fastq\"]]\n",
    "    if pygraphviz_available:\n",
    "        # These images can also be seen on the fly in the web-interface\n",
    "        draw_stage_graph(execution.stage_graph(), '/tmp/test_task_graph.png', format='png')\n",
    "        draw_task_graph(execution.task_graph(), '/tmp/test_stage_graph.png', format='png')\n",
    "    else:\n",
    "        print 'Pygraphviz is not available :('\n",
    "\n",
    "    execution.run(max_attempts=1, max_cores=10)\n",
    "   \n",
    "cosmos = Cosmos('sqlite:///sqlite.db')\n",
    "cosmos.initdb()\n",
    "\n",
    "subprocess.check_call('mkdir -p testing testing/data', shell=True)\n",
    "subprocess.check_call('cp extdata/4.fastq testing/data', shell=True)\n",
    "execution = cosmos.start('Test1', 'testing',restart=True, skip_confirm=True)\n",
    "run_test(execution)\n",
    "\n"
   ]
  },
  {
   "cell_type": "code",
   "execution_count": null,
   "metadata": {
    "collapsed": false
   },
   "outputs": [],
   "source": [
    "\n",
    "\n"
   ]
  }
 ],
 "metadata": {
  "kernelspec": {
   "display_name": "Python 2",
   "language": "python",
   "name": "python2"
  },
  "language_info": {
   "codemirror_mode": {
    "name": "ipython",
    "version": 2
   },
   "file_extension": ".py",
   "mimetype": "text/x-python",
   "name": "python",
   "nbconvert_exporter": "python",
   "pygments_lexer": "ipython2",
   "version": "2.7.5"
  }
 },
 "nbformat": 4,
 "nbformat_minor": 0
}
